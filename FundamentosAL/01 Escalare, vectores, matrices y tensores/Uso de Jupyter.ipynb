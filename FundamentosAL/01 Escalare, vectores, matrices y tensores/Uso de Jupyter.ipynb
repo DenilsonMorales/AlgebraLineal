{
 "cells": [
  {
   "cell_type": "code",
   "execution_count": 2,
   "id": "9c11ee9b",
   "metadata": {},
   "outputs": [
    {
     "name": "stdout",
     "output_type": "stream",
     "text": [
      "3.7.1\n"
     ]
    }
   ],
   "source": [
    "from platform import python_version\n",
    "print(python_version())"
   ]
  },
  {
   "cell_type": "code",
   "execution_count": 3,
   "id": "cadf8955",
   "metadata": {},
   "outputs": [
    {
     "name": "stdout",
     "output_type": "stream",
     "text": [
      "Hola mundo\n"
     ]
    }
   ],
   "source": [
    "print('Hola mundo')"
   ]
  },
  {
   "cell_type": "code",
   "execution_count": 4,
   "id": "a40a0759",
   "metadata": {},
   "outputs": [],
   "source": [
    "#Este es un comentario sobre el codigo que estamos desarrolando"
   ]
  },
  {
   "cell_type": "code",
   "execution_count": 6,
   "id": "129ce0fd",
   "metadata": {},
   "outputs": [],
   "source": [
    "# 1\n",
    "# 2\n",
    "# 3\n",
    "# 4\n",
    "\n",
    "# Seleccionar Ctrl + / para comentar y descomentar\n"
   ]
  },
  {
   "cell_type": "code",
   "execution_count": 8,
   "id": "6b35b3a2",
   "metadata": {},
   "outputs": [],
   "source": [
    "# No se recomiendan esceder las 100 celdas"
   ]
  },
  {
   "cell_type": "code",
   "execution_count": null,
   "id": "2a58005a",
   "metadata": {},
   "outputs": [],
   "source": [
    "#Correr una funcion de otro Notebook\n",
    "\n",
    "%run \"..\\\\funicones_auxiliares\\\" \n",
    "#camino de la funcion"
   ]
  }
 ],
 "metadata": {
  "kernelspec": {
   "display_name": "Python 3 (ipykernel)",
   "language": "python",
   "name": "python3"
  },
  "language_info": {
   "codemirror_mode": {
    "name": "ipython",
    "version": 3
   },
   "file_extension": ".py",
   "mimetype": "text/x-python",
   "name": "python",
   "nbconvert_exporter": "python",
   "pygments_lexer": "ipython3",
   "version": "3.7.1"
  }
 },
 "nbformat": 4,
 "nbformat_minor": 5
}
