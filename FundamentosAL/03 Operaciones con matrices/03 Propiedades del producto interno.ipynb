{
 "cells": [
  {
   "cell_type": "code",
   "execution_count": 1,
   "id": "d1235eec",
   "metadata": {},
   "outputs": [],
   "source": [
    "import numpy as np"
   ]
  },
  {
   "cell_type": "code",
   "execution_count": 3,
   "id": "0caf6dae",
   "metadata": {},
   "outputs": [],
   "source": [
    "A = np.array([[2,3],[5,7],[11,13]])\n",
    "B = np.array([[1,3],[2,1]])\n",
    "C = np.array([[3,1],[4,2]])"
   ]
  },
  {
   "cell_type": "code",
   "execution_count": 6,
   "id": "339d79c9",
   "metadata": {},
   "outputs": [
    {
     "name": "stdout",
     "output_type": "stream",
     "text": [
      "ABC \n",
      "\n",
      "[[ 60  26]\n",
      " [145  63]\n",
      " [295 129]]\n",
      "\n",
      " AB_C \n",
      "\n",
      "[[ 60  26]\n",
      " [145  63]\n",
      " [295 129]]\n"
     ]
    }
   ],
   "source": [
    "# Asociativa\n",
    "ABC = A.dot(B.dot(C))\n",
    "AB_C = A.dot(B).dot(C)\n",
    "print('ABC ', ABC, ' AB_C ', AB_C, sep = '\\n\\n')"
   ]
  },
  {
   "cell_type": "code",
   "execution_count": 9,
   "id": "65bd04de",
   "metadata": {},
   "outputs": [
    {
     "name": "stdout",
     "output_type": "stream",
     "text": [
      "D \n",
      "\n",
      "[[ 26  17]\n",
      " [ 62  41]\n",
      " [122  83]]\n",
      "\n",
      " E \n",
      "\n",
      "[[ 26  17]\n",
      " [ 62  41]\n",
      " [122  83]]\n",
      "\n",
      "[[ True  True]\n",
      " [ True  True]\n",
      " [ True  True]]\n"
     ]
    }
   ],
   "source": [
    "#Disrtributiva\n",
    "D = A.dot(B+C)\n",
    "E = (A.dot(B))+(A.dot(C))\n",
    "print('D ', D, ' E ', E,  D==E, sep = '\\n\\n')"
   ]
  },
  {
   "cell_type": "code",
   "execution_count": 10,
   "id": "f223a505",
   "metadata": {},
   "outputs": [
    {
     "name": "stdout",
     "output_type": "stream",
     "text": [
      "F \n",
      "\n",
      "[[15  7]\n",
      " [10  4]]\n",
      "\n",
      " G \n",
      "\n",
      "[[ 5 10]\n",
      " [ 8 14]]\n",
      "\n",
      "[[False False]\n",
      " [False False]]\n"
     ]
    }
   ],
   "source": [
    "#Conmutativa matrices\n",
    "F = B.dot(C)\n",
    "G = C.dot(B)\n",
    "v1_tv2 = v1.T.dot(v2)\n",
    "v2_tv1 = v2.T.dot(v1)"
   ]
  },
  {
   "cell_type": "code",
   "execution_count": 11,
   "id": "4ed2bbd2",
   "metadata": {},
   "outputs": [],
   "source": [
    "v1 = np.array([[2],[7]])\n",
    "v2 = np.array([[3],[5]])\n",
    "\n",
    "#Conmutativa vectores\n",
    "v1_tv2 = v1.T.dot(v2) #Se transpone por las dimensiones\n",
    "v2_tv1 = v2.T.dot(v1)"
   ]
  },
  {
   "cell_type": "code",
   "execution_count": 12,
   "id": "e2c1805c",
   "metadata": {},
   "outputs": [
    {
     "name": "stdout",
     "output_type": "stream",
     "text": [
      "v1_tv2 \n",
      "\n",
      "[[41]]\n",
      "\n",
      " v2_tv1 \n",
      "\n",
      "[[41]]\n",
      "\n",
      "[[ True]]\n"
     ]
    }
   ],
   "source": [
    "print('v1_tv2 ', v1_tv2, ' v2_tv1 ', v2_tv1,  v1_tv2 == v2_tv1, sep = '\\n\\n')"
   ]
  },
  {
   "cell_type": "code",
   "execution_count": null,
   "id": "39090e0b",
   "metadata": {},
   "outputs": [],
   "source": []
  }
 ],
 "metadata": {
  "kernelspec": {
   "display_name": "Python 3 (ipykernel)",
   "language": "python",
   "name": "python3"
  },
  "language_info": {
   "codemirror_mode": {
    "name": "ipython",
    "version": 3
   },
   "file_extension": ".py",
   "mimetype": "text/x-python",
   "name": "python",
   "nbconvert_exporter": "python",
   "pygments_lexer": "ipython3",
   "version": "3.11.7"
  }
 },
 "nbformat": 4,
 "nbformat_minor": 5
}
