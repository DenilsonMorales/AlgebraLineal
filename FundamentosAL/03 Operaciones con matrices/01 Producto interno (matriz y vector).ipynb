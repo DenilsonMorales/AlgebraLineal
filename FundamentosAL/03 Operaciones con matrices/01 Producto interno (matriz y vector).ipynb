{
 "cells": [
  {
   "cell_type": "code",
   "execution_count": 1,
   "id": "0a010acb",
   "metadata": {},
   "outputs": [],
   "source": [
    "import numpy as np"
   ]
  },
  {
   "cell_type": "code",
   "execution_count": 2,
   "id": "8c3c1171",
   "metadata": {},
   "outputs": [],
   "source": [
    "escalar = 5.679\n",
    "vector = np.array([2,3])\n",
    "matriz = np.array([[1,2],[3,4],[5,6]])"
   ]
  },
  {
   "cell_type": "code",
   "execution_count": 3,
   "id": "c06ae4ef",
   "metadata": {},
   "outputs": [],
   "source": [
    "A = matriz * vector"
   ]
  },
  {
   "cell_type": "code",
   "execution_count": 4,
   "id": "7d14601f",
   "metadata": {},
   "outputs": [],
   "source": [
    "B = matriz.dot(vector)"
   ]
  },
  {
   "cell_type": "code",
   "execution_count": 5,
   "id": "c961ded8",
   "metadata": {},
   "outputs": [
    {
     "name": "stdout",
     "output_type": "stream",
     "text": [
      "Matriz * Vector \n",
      "\n",
      "[[ 2  6]\n",
      " [ 6 12]\n",
      " [10 18]]\n",
      "\n",
      " Producto punto \n",
      "\n",
      "[ 8 18 28]\n"
     ]
    }
   ],
   "source": [
    "print('Matriz * Vector ', A , ' Producto punto ', B, sep = \"\\n\\n\")"
   ]
  },
  {
   "cell_type": "code",
   "execution_count": 6,
   "id": "4d3a3684",
   "metadata": {},
   "outputs": [],
   "source": [
    "B = matriz.dot(vector)\n",
    "C = np.dot(matriz,vector)"
   ]
  },
  {
   "cell_type": "code",
   "execution_count": 7,
   "id": "3ad0b1f3",
   "metadata": {},
   "outputs": [
    {
     "name": "stdout",
     "output_type": "stream",
     "text": [
      "Opcion 1 \n",
      "\n",
      "[ 8 18 28]\n",
      "\n",
      " Opcion 2 \n",
      "\n",
      "[ 8 18 28]\n"
     ]
    }
   ],
   "source": [
    "print( 'Opcion 1 ', B, ' Opcion 2 ', C, sep = \"\\n\\n\")"
   ]
  },
  {
   "cell_type": "code",
   "execution_count": null,
   "id": "5a8ac10d",
   "metadata": {},
   "outputs": [],
   "source": []
  }
 ],
 "metadata": {
  "kernelspec": {
   "display_name": "Python 3 (ipykernel)",
   "language": "python",
   "name": "python3"
  },
  "language_info": {
   "codemirror_mode": {
    "name": "ipython",
    "version": 3
   },
   "file_extension": ".py",
   "mimetype": "text/x-python",
   "name": "python",
   "nbconvert_exporter": "python",
   "pygments_lexer": "ipython3",
   "version": "3.7.1"
  }
 },
 "nbformat": 4,
 "nbformat_minor": 5
}
